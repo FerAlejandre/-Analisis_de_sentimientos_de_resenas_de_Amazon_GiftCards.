{
    "cells": [
        {
            "cell_type": "markdown",
            "metadata": {},
            "source": [
                "# Análisis de Sentimientos de Reseñas de Amazon Gift Cards\n",
                "**Nombre**: Fernando Jesús Alejandre Ojeda\n",
                "**Módulo**: Línea de comandos en Python para Data Engineer\n",
                "**Fecha**: 30/12/2024\n"
            ]
        },
        {
            "cell_type": "code",
            "execution_count": null,
            "metadata": {},
            "outputs": [],
            "source": [
                "# Import necessary libraries\n",
                "import json  # For working with JSON data\n",
                "import re  # For regular expressions\n",
                "import string  # For string manipulation\n",
                "import nltk  # Natural Language Toolkit for text processing\n",
                "from nltk.corpus import stopwords  # To remove common stop words\n",
                "from nltk.tokenize import word_tokenize  # For tokenizing text\n",
                "from Bert import analyze  # Custom BERT-based sentiment analysis module\n",
                "import matplotlib.pyplot as plt  # For creating visualizations\n",
                "\n",
                "# Import the Review class from Review module\n",
                "from Review import Review as UserReview\n",
                "\n",
                "# Ensure NLTK resources are downloaded\n",
                "nltk.download('punkt')\n",
                "nltk.download('stopwords')"
            ]
        },
        {
            "cell_type": "code",
            "execution_count": null,
            "metadata": {},
            "outputs": [],
            "source": [
                "def read_file(file_path):\n",
                "    '''\n",
                "    Reads a given file and converts it into a list of `Review` objects.\n",
                "\n",
                "    Args:\n",
                "        file_path (str): Path to the JSON file containing reviews.\n",
                "\n",
                "    Returns:\n",
                "        list: List of `Review` objects initialized with data from the file.\n",
                "    '''\n",
                "    reviews = []\n",
                "    with open(file_path, 'r') as file:\n",
                "        for line in file:\n",
                "            review = json.loads(line.strip())  # Parse JSON from each line\n",
                "            ur = UserReview()  # Create a new `Review` object\n",
                "            ur.init_from_json(review)  # Initialize it with data from JSON\n",
                "            reviews.append(ur)  # Add the object to the reviews list\n",
                "    return reviews"
            ]
        },
        {
            "cell_type": "code",
            "execution_count": null,
            "metadata": {},
            "outputs": [],
            "source": [
                "def normalize_text(txt):\n",
                "    '''\n",
                "    Normalizes text by converting to lowercase, removing punctuation and numbers, and trimming whitespace.\n",
                "\n",
                "    Args:\n",
                "        txt (str): Input text to normalize.\n",
                "\n",
                "    Returns:\n",
                "        str: Normalized text.\n",
                "    '''\n",
                "    txt = txt.lower()  # Convert text to lowercase\n",
                "    txt = txt.translate(str.maketrans('', '', string.punctuation + '¡¿'))  # Remove punctuation\n",
                "    txt = re.sub(r'\\d+', '', txt)  # Remove digits\n",
                "    txt = re.sub(r'\\s+', ' ', txt).strip()  # Remove extra whitespace\n",
                "    return txt"
            ]
        },
        {
            "cell_type": "code",
            "execution_count": null,
            "metadata": {},
            "outputs": [],
            "source": [
                "def rem_token_and_stop_words(txt):\n",
                "    '''\n",
                "    Removes stop words from the text and tokenizes it.\n",
                "\n",
                "    Args:\n",
                "        txt (str): Input text.\n",
                "\n",
                "    Returns:\n",
                "        str: Text without stop words, joined back into a single string.\n",
                "    '''\n",
                "    tokens = word_tokenize(txt)  # Tokenize the text into words\n",
                "    stop_words = set(stopwords.words('english'))  # Get the set of English stop words\n",
                "    tokens_filtered = [word for word in tokens if word.lower() not in stop_words]  # Filter out stop words\n",
                "    return ' '.join(tokens_filtered)  # Join the tokens back into a string"
            ]
        },
        {
            "cell_type": "code",
            "execution_count": null,
            "metadata": {},
            "outputs": [],
            "source": [
                "def process_reviews(reviews):\n",
                "    '''\n",
                "    Processes a list of reviews by normalizing text, removing stop words, and performing sentiment analysis.\n",
                "\n",
                "    Args:\n",
                "        reviews (list): List of `Review` objects to process.\n",
                "    '''\n",
                "    for review in reviews:\n",
                "        text = review.comment  # Extract the review comment\n",
                "        # Step 1 - Normalize the text\n",
                "        text = normalize_text(text)\n",
                "        # Step 2 - Remove stop words and tokenize\n",
                "        tokens = rem_token_and_stop_words(text)\n",
                "        # Step 3 - Perform sentiment analysis using BERT\n",
                "        resultado = analyze(tokens)\n",
                "        review.bert_grade = resultado  # Assign the BERT sentiment grade to the review\n",
                "    return"
            ]
        },
        {
            "cell_type": "markdown",
            "metadata": {},
            "source": [
                "## Main Script Execution"
            ]
        },
        {
            "cell_type": "code",
            "execution_count": null,
            "metadata": {},
            "outputs": [],
            "source": [
                "# Load reviews from the specified JSON file\n",
                "reviews = read_file(\"Resources/Gift_Cards_reviews.json\")\n",
                "\n",
                "# Process the reviews: normalize, filter, and analyze sentiment\n",
                "process_reviews(reviews)\n",
                "\n",
                "# Prepare data for sentiment analysis visualization\n",
                "tags = ['insatisfecho', 'neutral', 'satisfecho']  # Sentiment categories\n",
                "bert_values = [0, 0, 0]  # Counters for BERT sentiment analysis\n",
                "rating_values = [0, 0, 0]  # Counters for user ratings\n",
                "\n",
                "for review in reviews:\n",
                "    # Categorize based on BERT sentiment grade\n",
                "    if review.bert_grade < 3:\n",
                "        bert_values[0] += 1  # Insatisfecho\n",
                "    elif review.bert_grade == 3:\n",
                "        bert_values[1] += 1  # Neutral\n",
                "    else:\n",
                "        bert_values[2] += 1  # Satisfecho\n",
                "\n",
                "    # Categorize based on user rating\n",
                "    if review.rating < 3:\n",
                "        rating_values[0] += 1  # Insatisfecho\n",
                "    elif review.rating == 3:\n",
                "        rating_values[1] += 1  # Neutral\n",
                "    else:\n",
                "        rating_values[2] += 1  # Satisfecho\n",
                "\n",
                "# Visualization: Sentiment analysis by BERT\n",
                "plt.bar(tags, bert_values)\n",
                "plt.title('Análisis de reseñas Amazon por BERT')\n",
                "plt.xlabel('Etiqueta')\n",
                "plt.ylabel('Cantidad')\n",
                "plt.show()\n",
                "\n",
                "# Visualization: Sentiment analysis by user rating\n",
                "plt.bar(tags, rating_values)\n",
                "plt.title('Análisis de reseñas Amazon por Rating')\n",
                "plt.xlabel('Etiqueta')\n",
                "plt.ylabel('Cantidad')\n",
                "plt.show()"
            ]
        }
    ],
    "metadata": {
        "kernelspec": {
            "display_name": "Python 3",
            "language": "python",
            "name": "python3"
        },
        "language_info": {
            "codemirror_mode": {
                "name": "ipython",
                "version": 3
            },
            "file_extension": ".py",
            "mimetype": "text/x-python",
            "name": "python",
            "nbconvert_exporter": "python",
            "pygments_lexer": "ipython3",
            "version": "3.9.0"
        }
    },
    "nbformat": 4,
    "nbformat_minor": 4
}