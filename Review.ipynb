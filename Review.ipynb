{
    "cells": [
     {
      "cell_type": "code",
      "execution_count": null,
      "id": "f1f18445",
      "metadata": {},
      "outputs": [],
      "source": [
       "# Desarrollado por 'Fernando Alejandre'\n",
       "# En este caso, la clase 'Review', representa un objeto en el archivo json proporcionado.\n",
       "# El objetivo de crear cada Json en un objeto es poder explorar otros datos como el rating o si la compra fue verificada\n",
       "\n",
       "class Review:\n",
       "    # Atributos de la clase\n",
       "    rating = 0\n",
       "    title = ''\n",
       "    comment = ''\n",
       "    helpful_vote = 0\n",
       "    verified = False\n",
       "    bert_grade = 0\n",
       "\n",
       "    # Constructor\n",
       "    def __init__(self):\n",
       "        pass\n",
       "\n",
       "    # Método para inicializar desde un objeto JSON\n",
       "    def init_from_json(self, json):\n",
       "        self.rating = json[\"rating\"]\n",
       "        self.title = json[\"title\"]\n",
       "        self.comment = json[\"text\"]\n",
       "        self.helpful_vote = json[\"helpful_vote\"]\n",
       "        self.verified = json[\"verified_purchase\"]\n",
       "    \n",
       "    # Método para establecer la calificación BERT\n",
       "    def set_bert_grade(self, grade):\n",
       "        self.bert_grade = grade\n",
       "\n",
       "    # Método para representar el objeto como cadena de texto\n",
       "    def __str__(self):\n",
       "        if self.bert_grade > 0:\n",
       "            return \"[\" + self.comment + \",\" + str(self.bert_grade) + \"]\"\n",
       "        return \"[\" + self.comment + \"]\"\n"
      ]
     }
    ],
    "metadata": {
     "kernelspec": {
      "display_name": "Python 3",
      "language": "python",
      "name": "python3"
     },
     "language_info": {
      "codemirror_mode": {
       "name": "ipython",
       "version": 3
      },
      "file_extension": ".py",
      "mimetype": "text/x-python",
      "name": "python",
      "nbconvert_exporter": "python",
      "version": "3.10.6"
     }
    },
    "nbformat": 4,
    "nbformat_minor": 5
   }   
