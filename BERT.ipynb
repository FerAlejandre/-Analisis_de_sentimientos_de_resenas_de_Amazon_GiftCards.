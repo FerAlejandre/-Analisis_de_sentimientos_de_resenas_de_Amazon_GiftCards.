{
 "cells": [
  {
   "cell_type": "markdown",
   "metadata": {},
   "source": [
    "# Análisis de Sentimiento con BERT\n",
    "Este notebook utiliza un modelo preentrenado de BERT para realizar análisis de sentimiento en texto.\n",
    "\n",
    "Desarrollado por: Fernando Alejandre"
   ]
  },
  {
   "cell_type": "code",
   "execution_count": null,
   "metadata": {},
   "outputs": [],
   "source": [
    "# Importar las bibliotecas necesarias de transformers y torch\n",
    "from transformers import AutoTokenizer, AutoModelForSequenceClassification  # Para cargar el modelo y el tokenizador\n",
    "import torch  # Para manejar tensores y realizar cálculos con el modelo"
   ]
  },
  {
   "cell_type": "code",
   "execution_count": null,
   "metadata": {},
   "outputs": [],
   "source": [
    "# Definir el modelo preentrenado que se utilizará para el análisis de sentimiento\n",
    "MODEL = f'\nlptown/bert-base-multilingual-uncased-sentiment'"
   ]
  },
  {
   "cell_type": "code",
   "execution_count": null,
   "metadata": {},
   "outputs": [],
   "source": [
    "# Cargar el tokenizador asociado al modelo\n",
    "tokenizer = AutoTokenizer.from_pretrained(MODEL)"
   ]
  },
  {
   "cell_type": "code",
   "execution_count": null,
   "metadata": {},
   "outputs": [],
   "source": [
    "# Cargar el modelo de clasificación de secuencias preentrenado\n",
    "model = AutoModelForSequenceClassification.from_pretrained(MODEL)"
   ]
  },
  {
   "cell_type": "code",
   "execution_count": null,
   "metadata": {},
   "outputs": [],
   "source": [
    "def analyze(txt):\n",
    "    '''\n",
    "    Función para analizar el sentimiento de un texto dado.\n",
    "\n",
    "    Args:\n",
    "        txt (str): El texto que se desea analizar.\n",
    "\n",
    "    Returns:\n",
    "        int: Un valor numérico que representa el sentimiento (1 a 5).\n",
    "    '''\n",
    "    # Codificar el texto en tokens utilizando el tokenizador preentrenado\n",
    "    tokens = tokenizer.encode(txt, return_tensors='pt')  # Convertir texto en tensores para el modelo\n",
    "\n",
    "    # Pasar los tokens al modelo y obtener los resultados (logits)\n",
    "    result = model(tokens)\n",
    "\n",
    "    # Determinar la categoría de sentimiento (1 a 5) basada en el índice con mayor probabilidad\n",
    "    resultado = int(torch.argmax(result.logits)) + 1  # Convertir índice a rango 1-5\n",
    "    return resultado"
   ]
  },
  {
   "cell_type": "markdown",
   "metadata": {},
   "source": [
    "### Análisis de Sentimiento de Ejemplo"
   ]
  },
  {
   "cell_type": "code",
   "execution_count": null,
   "metadata": {},
   "outputs": [],
   "source": [
    "# Analizar el sentimiento de un texto de prueba\n",
    "resultado = analyze('ok')  # Texto de ejemplo 'ok'\n",
    "\n",
    "# Imprimir el resultado del análisis de sentimiento\n",
    "print(resultado)  # Salida: un número del 1 al 5 que indica el sentimiento"
   ]
  }
 ],
 "metadata": {
  "kernelspec": {
   "display_name": "Python 3",
   "language": "python",
   "name": "python3"
  },
  "language_info": {
   "codemirror_mode": {
    "name": "ipython",
    "version": 3
   },
   "file_extension": ".py",
   "mimetype": "text/x-python",
   "name": "python",
   "nbconvert_exporter": "python",
   "pygments_lexer": "ipython3",
   "version": "3.10.4"
  }
 },
 "nbformat": 4,
 "nbformat_minor": 2
}
